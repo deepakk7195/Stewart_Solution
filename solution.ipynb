{
 "cells": [
  {
   "cell_type": "code",
   "execution_count": 2,
   "id": "b99be47e",
   "metadata": {},
   "outputs": [],
   "source": [
    "import pandas as pd\n",
    "import numpy as np"
   ]
  },
  {
   "cell_type": "code",
   "execution_count": 3,
   "id": "81476247",
   "metadata": {},
   "outputs": [],
   "source": [
    "sales = pd.read_excel(\"./data.xlsx\")  # data.xlsx\n",
    "fcst  = pd.read_excel(\"./Forcast.xlsx\")  # Forcast.xlsx"
   ]
  },
  {
   "cell_type": "code",
   "execution_count": 4,
   "id": "9089f505",
   "metadata": {},
   "outputs": [
    {
     "name": "stdout",
     "output_type": "stream",
     "text": [
      "<class 'pandas.core.frame.DataFrame'>\n",
      "RangeIndex: 678025 entries, 0 to 678024\n",
      "Data columns (total 8 columns):\n",
      " #   Column            Non-Null Count   Dtype  \n",
      "---  ------            --------------   -----  \n",
      " 0   Site              678021 non-null  object \n",
      " 1   Date              678019 non-null  object \n",
      " 2   Invoice Number    678013 non-null  object \n",
      " 3   Customer Code     678002 non-null  object \n",
      " 4   Name              677996 non-null  object \n",
      " 5   Item Code         677993 non-null  object \n",
      " 6   Item Description  677983 non-null  object \n",
      " 7   Quantity          677916 non-null  float64\n",
      "dtypes: float64(1), object(7)\n",
      "memory usage: 41.4+ MB\n"
     ]
    }
   ],
   "source": [
    "sales.info()"
   ]
  },
  {
   "cell_type": "code",
   "execution_count": 5,
   "id": "f65e6fe1",
   "metadata": {},
   "outputs": [
    {
     "name": "stdout",
     "output_type": "stream",
     "text": [
      "<class 'pandas.core.frame.DataFrame'>\n",
      "RangeIndex: 24 entries, 0 to 23\n",
      "Data columns (total 72 columns):\n",
      " #   Column               Non-Null Count  Dtype  \n",
      "---  ------               --------------  -----  \n",
      " 0   BRAND                24 non-null     object \n",
      " 1   ACTIVE               24 non-null     object \n",
      " 2   Product              24 non-null     object \n",
      " 3   Product description  24 non-null     object \n",
      " 4   PROD                 24 non-null     object \n",
      " 5   TYP                  24 non-null     object \n",
      " 6   STATUS               24 non-null     object \n",
      " 7   ON HAND INITIAL      0 non-null      float64\n",
      " 8   PO INITIAL           0 non-null      float64\n",
      " 9   OCT                  18 non-null     float64\n",
      " 10  NOV                  18 non-null     float64\n",
      " 11  DEC                  24 non-null     int64  \n",
      " 12  JAN                  24 non-null     int64  \n",
      " 13  FEB                  23 non-null     float64\n",
      " 14  MAR                  23 non-null     float64\n",
      " 15  APR                  24 non-null     int64  \n",
      " 16  MAY                  23 non-null     float64\n",
      " 17  JUN                  24 non-null     int64  \n",
      " 18  JUL                  20 non-null     float64\n",
      " 19  AUG                  20 non-null     float64\n",
      " 20  SEPT                 21 non-null     float64\n",
      " 21  OCT.1                16 non-null     float64\n",
      " 22  NOV.1                16 non-null     float64\n",
      " 23  DEC.1                16 non-null     float64\n",
      " 24  JAN.1                22 non-null     float64\n",
      " 25  FEB.1                22 non-null     float64\n",
      " 26  MAR.1                22 non-null     float64\n",
      " 27  APR.1                22 non-null     float64\n",
      " 28  MAY.1                22 non-null     float64\n",
      " 29  JUN.1                22 non-null     float64\n",
      " 30  JULY                 16 non-null     float64\n",
      " 31  AUG.1                23 non-null     float64\n",
      " 32  SEPT.1               22 non-null     float64\n",
      " 33  OCT.2                22 non-null     float64\n",
      " 34  NOV.2                21 non-null     float64\n",
      " 35  DEC.2                22 non-null     float64\n",
      " 36  JAN.2                22 non-null     float64\n",
      " 37  FEB.2                22 non-null     float64\n",
      " 38  MAR.2                22 non-null     float64\n",
      " 39  APR.2                22 non-null     float64\n",
      " 40  MAY.2                22 non-null     float64\n",
      " 41  JUN.2                22 non-null     float64\n",
      " 42  JUL.1                23 non-null     float64\n",
      " 43  AUG.2                23 non-null     float64\n",
      " 44  SEPT.2               22 non-null     float64\n",
      " 45  OCT.3                21 non-null     float64\n",
      " 46  NOV.3                22 non-null     float64\n",
      " 47  DEC.3                22 non-null     float64\n",
      " 48  JAN.3                22 non-null     float64\n",
      " 49  FEB.3                22 non-null     float64\n",
      " 50  MAR.3                23 non-null     float64\n",
      " 51  APR.3                22 non-null     float64\n",
      " 52  MAY.3                22 non-null     float64\n",
      " 53  JUN.3                22 non-null     float64\n",
      " 54  JUL.2                23 non-null     float64\n",
      " 55  AUG.3                22 non-null     float64\n",
      " 56  SEPT.3               22 non-null     float64\n",
      " 57  OCT.4                21 non-null     float64\n",
      " 58  NOV.4                21 non-null     float64\n",
      " 59  DEC.4                23 non-null     float64\n",
      " 60  JAN.4                22 non-null     float64\n",
      " 61  FEB.4                22 non-null     float64\n",
      " 62  MAR.4                22 non-null     float64\n",
      " 63  APR.4                16 non-null     float64\n",
      " 64  MAY.4                16 non-null     float64\n",
      " 65  JUN.4                16 non-null     float64\n",
      " 66  JUL.3                16 non-null     float64\n",
      " 67  AUG.4                16 non-null     float64\n",
      " 68  SEP                  16 non-null     float64\n",
      " 69  OCT.5                16 non-null     float64\n",
      " 70  NOV.5                16 non-null     float64\n",
      " 71  DEC.5                16 non-null     float64\n",
      "dtypes: float64(61), int64(4), object(7)\n",
      "memory usage: 13.6+ KB\n"
     ]
    }
   ],
   "source": [
    "fcst.info()"
   ]
  },
  {
   "cell_type": "code",
   "execution_count": 6,
   "id": "a2c7abee",
   "metadata": {},
   "outputs": [],
   "source": [
    "# Keep only needed columns (robust to case/whitespace)\n",
    "def pick(df, names):\n",
    "    cols = {c.strip().lower(): c for c in df.columns}\n",
    "    out = {}\n",
    "    for n in names:\n",
    "        key = n.strip().lower()\n",
    "        if key in cols: out[n] = cols[key]\n",
    "    return df[[out[n] for n in out]]\n",
    "\n",
    "sales = pick(sales, [\"Site\",\"Date\",\"Invoice Number\",\"Customer Code\",\"Name\",\"Item Code\",\"Item Description\",\"Quantity\"])\n",
    "fcst  = pick(fcst , [\"BRAND\",\"ACTIVE\",\"Product\",\"Product description\",\"PROD\",\"TYP\",\"STATUS\"]) \\\n",
    "        .join(pd.read_excel(\"./Forcast.xlsx\").drop(columns=[\"BRAND\",\"ACTIVE\",\"Product\",\"Product description\",\"PROD\",\"TYP\",\"STATUS\"], errors=\"ignore\"))"
   ]
  },
  {
   "cell_type": "code",
   "execution_count": 8,
   "id": "a6de1e1f",
   "metadata": {},
   "outputs": [
    {
     "data": {
      "text/plain": [
       "Index(['BRAND', 'ACTIVE', 'Product', 'Product description', 'PROD', 'TYP',\n",
       "       'STATUS', 'ON HAND INITIAL', 'PO INITIAL', 'OCT', 'NOV', 'DEC', 'JAN',\n",
       "       'FEB', 'MAR', 'APR', 'MAY', 'JUN', 'JUL', 'AUG', 'SEPT', 'OCT.1',\n",
       "       'NOV.1', 'DEC.1', 'JAN.1', 'FEB.1', 'MAR.1', 'APR.1', 'MAY.1', 'JUN.1',\n",
       "       'JULY', 'AUG.1', 'SEPT.1', 'OCT.2', 'NOV.2', 'DEC.2', 'JAN.2', 'FEB.2',\n",
       "       'MAR.2', 'APR.2', 'MAY.2', 'JUN.2', 'JUL.1', 'AUG.2', 'SEPT.2', 'OCT.3',\n",
       "       'NOV.3', 'DEC.3', 'JAN.3', 'FEB.3', 'MAR.3', 'APR.3', 'MAY.3', 'JUN.3',\n",
       "       'JUL.2', 'AUG.3', 'SEPT.3', 'OCT.4', 'NOV.4', 'DEC.4', 'JAN.4', 'FEB.4',\n",
       "       'MAR.4', 'APR.4', 'MAY.4', 'JUN.4', 'JUL.3', 'AUG.4', 'SEP', 'OCT.5',\n",
       "       'NOV.5', 'DEC.5'],\n",
       "      dtype='object')"
      ]
     },
     "execution_count": 8,
     "metadata": {},
     "output_type": "execute_result"
    }
   ],
   "source": [
    "fcst.columns"
   ]
  },
  {
   "cell_type": "code",
   "execution_count": 24,
   "id": "2c5808ee",
   "metadata": {},
   "outputs": [
    {
     "name": "stdout",
     "output_type": "stream",
     "text": [
      "Direct matches: 8\n",
      "678025\n",
      "24\n"
     ]
    }
   ],
   "source": [
    "# EDA + Data Sanity + Linkage - \n",
    "# Sets of IDs to compare (case-insensitive)\n",
    "sales[\"item_code_std\"] = sales[\"Item Code\"].astype(str).str.upper().str.strip()\n",
    "fcst[\"product_std\"]    = fcst[\"Product\"].astype(str).str.upper().str.strip()\n",
    "\n",
    "# --- Find exact matches ---\n",
    "direct_codes = sorted(set(sales[\"item_code_std\"]) & set(fcst[\"product_std\"]))\n",
    "print(\"Direct matches:\", len(direct_codes))\n",
    "print(len(sales[\"item_code_std\"]))\n",
    "print(len(fcst[\"product_std\"]))"
   ]
  },
  {
   "cell_type": "code",
   "execution_count": null,
   "id": "08318edf",
   "metadata": {},
   "outputs": [],
   "source": [
    "# All forcast products - 8 are present in sales, but not all, hence forcast for missing products in Sales will \n",
    "# be missing."
   ]
  },
  {
   "cell_type": "code",
   "execution_count": 18,
   "id": "0ad075c4",
   "metadata": {},
   "outputs": [
    {
     "name": "stdout",
     "output_type": "stream",
     "text": [
      "678025 12611\n"
     ]
    }
   ],
   "source": [
    "neg_rows = sales[sales[\"Quantity\"]<0]\n",
    "print(len(sales), len(neg_rows))\n"
   ]
  },
  {
   "cell_type": "code",
   "execution_count": 22,
   "id": "162a4628",
   "metadata": {},
   "outputs": [
    {
     "ename": "KeyError",
     "evalue": "\"None of [Index(['product_std'], dtype='object')] are in the [columns]\"",
     "output_type": "error",
     "traceback": [
      "\u001b[1;31m---------------------------------------------------------------------------\u001b[0m",
      "\u001b[1;31mKeyError\u001b[0m                                  Traceback (most recent call last)",
      "Cell \u001b[1;32mIn[22], line 3\u001b[0m\n\u001b[0;32m      1\u001b[0m \u001b[38;5;66;03m# Building linkage table - \u001b[39;00m\n\u001b[0;32m      2\u001b[0m link \u001b[38;5;241m=\u001b[39m pd\u001b[38;5;241m.\u001b[39mDataFrame({\u001b[38;5;124m\"\u001b[39m\u001b[38;5;124mitem_code_std\u001b[39m\u001b[38;5;124m\"\u001b[39m: \u001b[38;5;28mlist\u001b[39m(direct)})\n\u001b[1;32m----> 3\u001b[0m link \u001b[38;5;241m=\u001b[39m link\u001b[38;5;241m.\u001b[39mmerge(fcst[[\u001b[38;5;124m\"\u001b[39m\u001b[38;5;124mproduct_std\u001b[39m\u001b[38;5;124m\"\u001b[39m]]\u001b[38;5;241m.\u001b[39mdrop_duplicates(),\n\u001b[0;32m      4\u001b[0m                   left_on\u001b[38;5;241m=\u001b[39m\u001b[38;5;124m\"\u001b[39m\u001b[38;5;124mitem_code_std\u001b[39m\u001b[38;5;124m\"\u001b[39m, right_on\u001b[38;5;241m=\u001b[39m\u001b[38;5;124m\"\u001b[39m\u001b[38;5;124mproduct_std\u001b[39m\u001b[38;5;124m\"\u001b[39m, how\u001b[38;5;241m=\u001b[39m\u001b[38;5;124m\"\u001b[39m\u001b[38;5;124mleft\u001b[39m\u001b[38;5;124m\"\u001b[39m)\n\u001b[0;32m      5\u001b[0m link \u001b[38;5;241m=\u001b[39m link\u001b[38;5;241m.\u001b[39mrename(columns\u001b[38;5;241m=\u001b[39m{\u001b[38;5;124m\"\u001b[39m\u001b[38;5;124mproduct_std\u001b[39m\u001b[38;5;124m\"\u001b[39m:\u001b[38;5;124m\"\u001b[39m\u001b[38;5;124mproduct_link\u001b[39m\u001b[38;5;124m\"\u001b[39m})\n\u001b[0;32m      6\u001b[0m \u001b[38;5;28;01massert\u001b[39;00m \u001b[38;5;129;01mnot\u001b[39;00m link[\u001b[38;5;124m\"\u001b[39m\u001b[38;5;124mitem_code_std\u001b[39m\u001b[38;5;124m\"\u001b[39m]\u001b[38;5;241m.\u001b[39mduplicated()\u001b[38;5;241m.\u001b[39many(), \u001b[38;5;124m\"\u001b[39m\u001b[38;5;124mDuplicate key in linkage table!\u001b[39m\u001b[38;5;124m\"\u001b[39m\n",
      "File \u001b[1;32mc:\\Anaconda\\Lib\\site-packages\\pandas\\core\\frame.py:4108\u001b[0m, in \u001b[0;36mDataFrame.__getitem__\u001b[1;34m(self, key)\u001b[0m\n\u001b[0;32m   4106\u001b[0m     \u001b[38;5;28;01mif\u001b[39;00m is_iterator(key):\n\u001b[0;32m   4107\u001b[0m         key \u001b[38;5;241m=\u001b[39m \u001b[38;5;28mlist\u001b[39m(key)\n\u001b[1;32m-> 4108\u001b[0m     indexer \u001b[38;5;241m=\u001b[39m \u001b[38;5;28mself\u001b[39m\u001b[38;5;241m.\u001b[39mcolumns\u001b[38;5;241m.\u001b[39m_get_indexer_strict(key, \u001b[38;5;124m\"\u001b[39m\u001b[38;5;124mcolumns\u001b[39m\u001b[38;5;124m\"\u001b[39m)[\u001b[38;5;241m1\u001b[39m]\n\u001b[0;32m   4110\u001b[0m \u001b[38;5;66;03m# take() does not accept boolean indexers\u001b[39;00m\n\u001b[0;32m   4111\u001b[0m \u001b[38;5;28;01mif\u001b[39;00m \u001b[38;5;28mgetattr\u001b[39m(indexer, \u001b[38;5;124m\"\u001b[39m\u001b[38;5;124mdtype\u001b[39m\u001b[38;5;124m\"\u001b[39m, \u001b[38;5;28;01mNone\u001b[39;00m) \u001b[38;5;241m==\u001b[39m \u001b[38;5;28mbool\u001b[39m:\n",
      "File \u001b[1;32mc:\\Anaconda\\Lib\\site-packages\\pandas\\core\\indexes\\base.py:6200\u001b[0m, in \u001b[0;36mIndex._get_indexer_strict\u001b[1;34m(self, key, axis_name)\u001b[0m\n\u001b[0;32m   6197\u001b[0m \u001b[38;5;28;01melse\u001b[39;00m:\n\u001b[0;32m   6198\u001b[0m     keyarr, indexer, new_indexer \u001b[38;5;241m=\u001b[39m \u001b[38;5;28mself\u001b[39m\u001b[38;5;241m.\u001b[39m_reindex_non_unique(keyarr)\n\u001b[1;32m-> 6200\u001b[0m \u001b[38;5;28mself\u001b[39m\u001b[38;5;241m.\u001b[39m_raise_if_missing(keyarr, indexer, axis_name)\n\u001b[0;32m   6202\u001b[0m keyarr \u001b[38;5;241m=\u001b[39m \u001b[38;5;28mself\u001b[39m\u001b[38;5;241m.\u001b[39mtake(indexer)\n\u001b[0;32m   6203\u001b[0m \u001b[38;5;28;01mif\u001b[39;00m \u001b[38;5;28misinstance\u001b[39m(key, Index):\n\u001b[0;32m   6204\u001b[0m     \u001b[38;5;66;03m# GH 42790 - Preserve name from an Index\u001b[39;00m\n",
      "File \u001b[1;32mc:\\Anaconda\\Lib\\site-packages\\pandas\\core\\indexes\\base.py:6249\u001b[0m, in \u001b[0;36mIndex._raise_if_missing\u001b[1;34m(self, key, indexer, axis_name)\u001b[0m\n\u001b[0;32m   6247\u001b[0m \u001b[38;5;28;01mif\u001b[39;00m nmissing:\n\u001b[0;32m   6248\u001b[0m     \u001b[38;5;28;01mif\u001b[39;00m nmissing \u001b[38;5;241m==\u001b[39m \u001b[38;5;28mlen\u001b[39m(indexer):\n\u001b[1;32m-> 6249\u001b[0m         \u001b[38;5;28;01mraise\u001b[39;00m \u001b[38;5;167;01mKeyError\u001b[39;00m(\u001b[38;5;124mf\u001b[39m\u001b[38;5;124m\"\u001b[39m\u001b[38;5;124mNone of [\u001b[39m\u001b[38;5;132;01m{\u001b[39;00mkey\u001b[38;5;132;01m}\u001b[39;00m\u001b[38;5;124m] are in the [\u001b[39m\u001b[38;5;132;01m{\u001b[39;00maxis_name\u001b[38;5;132;01m}\u001b[39;00m\u001b[38;5;124m]\u001b[39m\u001b[38;5;124m\"\u001b[39m)\n\u001b[0;32m   6251\u001b[0m     not_found \u001b[38;5;241m=\u001b[39m \u001b[38;5;28mlist\u001b[39m(ensure_index(key)[missing_mask\u001b[38;5;241m.\u001b[39mnonzero()[\u001b[38;5;241m0\u001b[39m]]\u001b[38;5;241m.\u001b[39munique())\n\u001b[0;32m   6252\u001b[0m     \u001b[38;5;28;01mraise\u001b[39;00m \u001b[38;5;167;01mKeyError\u001b[39;00m(\u001b[38;5;124mf\u001b[39m\u001b[38;5;124m\"\u001b[39m\u001b[38;5;132;01m{\u001b[39;00mnot_found\u001b[38;5;132;01m}\u001b[39;00m\u001b[38;5;124m not in index\u001b[39m\u001b[38;5;124m\"\u001b[39m)\n",
      "\u001b[1;31mKeyError\u001b[0m: \"None of [Index(['product_std'], dtype='object')] are in the [columns]\""
     ]
    }
   ],
   "source": [
    "# Building linkage table - \n",
    "link = pd.DataFrame({\"item_code_std\": list(direct)})\n",
    "link = link.merge(fcst[[\"product_std\"]].drop_duplicates(),\n",
    "                  left_on=\"item_code_std\", right_on=\"product_std\", how=\"left\")\n",
    "link = link.rename(columns={\"product_std\":\"product_link\"})\n",
    "assert not link[\"item_code_std\"].duplicated().any(), \"Duplicate key in linkage table!\"\n"
   ]
  }
 ],
 "metadata": {
  "kernelspec": {
   "display_name": "base",
   "language": "python",
   "name": "python3"
  },
  "language_info": {
   "codemirror_mode": {
    "name": "ipython",
    "version": 3
   },
   "file_extension": ".py",
   "mimetype": "text/x-python",
   "name": "python",
   "nbconvert_exporter": "python",
   "pygments_lexer": "ipython3",
   "version": "3.12.7"
  }
 },
 "nbformat": 4,
 "nbformat_minor": 5
}
